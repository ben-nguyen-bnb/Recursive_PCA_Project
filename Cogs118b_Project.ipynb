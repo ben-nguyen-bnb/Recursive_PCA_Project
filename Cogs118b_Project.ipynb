{
 "cells": [
  {
   "cell_type": "markdown",
   "metadata": {},
   "source": [
    "# Removing Glasses from an image through recursive PCA"
   ]
  },
  {
   "cell_type": "markdown",
   "metadata": {},
   "source": [
    "### Import Necessary Libraries"
   ]
  },
  {
   "cell_type": "code",
   "execution_count": 11,
   "metadata": {},
   "outputs": [],
   "source": [
    "import numpy as np\n",
    "from PIL import Image\n",
    "import matplotlib.pyplot as plt"
   ]
  },
  {
   "cell_type": "markdown",
   "metadata": {},
   "source": [
    "### Load Data"
   ]
  },
  {
   "cell_type": "code",
   "execution_count": 42,
   "metadata": {},
   "outputs": [],
   "source": [
    "# Load Chosen Images as Dataset\n",
    "def load_pgm_images(amount_of_people, pics_per_person, show_imgs=False):\n",
    "    images = []\n",
    "    for person in range(1, amount_of_people+1):\n",
    "        images.append([])\n",
    "        for image_number in range(1, pics_per_person+1):\n",
    "            img = Image.open('images/s' + str(person) + '/' + str(image_number) + '.pgm')\n",
    "            images[person-1].append(img)\n",
    "\n",
    "    if show_imgs:\n",
    "        rows, cols = len(images), len(images[0])\n",
    "        fig, axes = plt.subplots(rows, cols)\n",
    "        for i in range(rows):\n",
    "            for j in range(cols):\n",
    "                ax = axes[i, j]\n",
    "                # img = Image.open(image_paths[i][j])\n",
    "                ax.imshow(images[i][j], cmap='gray')\n",
    "                ax.axis('off')\n",
    "        plt.tight_layout()\n",
    "        plt.show()\n",
    "\n",
    "    return images\n",
    "\n",
    "iamges = load_pgm_images(10, 10, False)"
   ]
  },
  {
   "cell_type": "markdown",
   "metadata": {},
   "source": [
    "### Process Data"
   ]
  },
  {
   "cell_type": "code",
   "execution_count": null,
   "metadata": {},
   "outputs": [],
   "source": []
  },
  {
   "cell_type": "markdown",
   "metadata": {},
   "source": [
    "### Perform PCA on Glassless Dataset"
   ]
  },
  {
   "cell_type": "markdown",
   "metadata": {},
   "source": []
  }
 ],
 "metadata": {
  "kernelspec": {
   "display_name": "Python 3",
   "language": "python",
   "name": "python3"
  },
  "language_info": {
   "codemirror_mode": {
    "name": "ipython",
    "version": 3
   },
   "file_extension": ".py",
   "mimetype": "text/x-python",
   "name": "python",
   "nbconvert_exporter": "python",
   "pygments_lexer": "ipython3",
   "version": "3.13.0"
  }
 },
 "nbformat": 4,
 "nbformat_minor": 2
}
